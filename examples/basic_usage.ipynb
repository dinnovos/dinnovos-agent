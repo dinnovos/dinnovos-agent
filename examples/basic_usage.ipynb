{
 "cells": [
  {
   "cell_type": "code",
   "execution_count": 1,
   "id": "fa87faac",
   "metadata": {},
   "outputs": [],
   "source": [
    "from dinnovos import Agent, OpenAILLM"
   ]
  },
  {
   "cell_type": "code",
   "execution_count": null,
   "id": "752dbe62",
   "metadata": {},
   "outputs": [],
   "source": [
    "API_KEY_OPENAI = \"XXX\""
   ]
  },
  {
   "cell_type": "markdown",
   "id": "a22328c9",
   "metadata": {},
   "source": [
    "#### OpenAI LLM"
   ]
  },
  {
   "cell_type": "code",
   "execution_count": 7,
   "id": "3f8f0f17",
   "metadata": {},
   "outputs": [],
   "source": [
    "# Create an LLM interface\n",
    "llm = OpenAILLM(\n",
    "    api_key=API_KEY_OPENAI,  # Replace with your API key\n",
    "    model=\"gpt-4.1-mini\"\n",
    ")"
   ]
  },
  {
   "cell_type": "code",
   "execution_count": 8,
   "id": "cf044f02",
   "metadata": {},
   "outputs": [],
   "source": [
    "agent = Agent(\n",
    "    llm=llm,\n",
    "    system_prompt=\"You are a helpful Python programming assistant.\",\n",
    "    max_history=10\n",
    ")"
   ]
  },
  {
   "cell_type": "code",
   "execution_count": 9,
   "id": "df43f4af",
   "metadata": {},
   "outputs": [
    {
     "data": {
      "text/plain": [
       "'A **list comprehension** in Python is a concise way to create lists. It allows you to generate a new list by applying an expression to each item in an existing iterable (like a list, tuple, or range), optionally including a condition to filter elements.\\n\\nThe basic syntax is:\\n\\n```python\\n[expression for item in iterable if condition]\\n```\\n\\n- **expression**: The value or operation applied to each item.\\n- **item**: The variable representing each element from the iterable.\\n- **iterable**: The collection you loop over.\\n- **if condition** (optional): A filter that only includes items where the condition is `True`.\\n\\n### Example:\\n\\nCreate a list of squares of even numbers from 0 to 9:\\n\\n```python\\nsquares = [x**2 for x in range(10) if x % 2 == 0]\\nprint(squares)  # Output: [0, 4, 16, 36, 64]\\n```\\n\\nThis is equivalent to:\\n\\n```python\\nsquares = []\\nfor x in range(10):\\n    if x % 2 == 0:\\n        squares.append(x**2)\\n```\\n\\nList comprehensions provide a more compact and readable way to create lists compared to using loops.'"
      ]
     },
     "execution_count": 9,
     "metadata": {},
     "output_type": "execute_result"
    }
   ],
   "source": [
    "agent.chat(\"What is a list comprehension in Python?\")"
   ]
  },
  {
   "cell_type": "code",
   "execution_count": 10,
   "id": "0503308e",
   "metadata": {},
   "outputs": [
    {
     "data": {
      "text/plain": [
       "[{'role': 'system',\n",
       "  'content': 'You are a helpful Python programming assistant.'},\n",
       " {'role': 'user', 'content': 'What is a list comprehension in Python?'},\n",
       " {'role': 'assistant',\n",
       "  'content': 'A **list comprehension** in Python is a concise way to create lists. It allows you to generate a new list by applying an expression to each item in an existing iterable (like a list, tuple, or range), optionally including a condition to filter elements.\\n\\nThe basic syntax is:\\n\\n```python\\n[expression for item in iterable if condition]\\n```\\n\\n- **expression**: The value or operation applied to each item.\\n- **item**: The variable representing each element from the iterable.\\n- **iterable**: The collection you loop over.\\n- **if condition** (optional): A filter that only includes items where the condition is `True`.\\n\\n### Example:\\n\\nCreate a list of squares of even numbers from 0 to 9:\\n\\n```python\\nsquares = [x**2 for x in range(10) if x % 2 == 0]\\nprint(squares)  # Output: [0, 4, 16, 36, 64]\\n```\\n\\nThis is equivalent to:\\n\\n```python\\nsquares = []\\nfor x in range(10):\\n    if x % 2 == 0:\\n        squares.append(x**2)\\n```\\n\\nList comprehensions provide a more compact and readable way to create lists compared to using loops.'}]"
      ]
     },
     "execution_count": 10,
     "metadata": {},
     "output_type": "execute_result"
    }
   ],
   "source": [
    "agent.get_history()"
   ]
  }
 ],
 "metadata": {
  "kernelspec": {
   "display_name": "vienv",
   "language": "python",
   "name": "python3"
  },
  "language_info": {
   "codemirror_mode": {
    "name": "ipython",
    "version": 3
   },
   "file_extension": ".py",
   "mimetype": "text/x-python",
   "name": "python",
   "nbconvert_exporter": "python",
   "pygments_lexer": "ipython3",
   "version": "3.13.1"
  }
 },
 "nbformat": 4,
 "nbformat_minor": 5
}
