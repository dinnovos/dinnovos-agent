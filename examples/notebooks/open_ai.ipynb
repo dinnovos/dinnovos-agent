{
 "cells": [
  {
   "cell_type": "code",
   "execution_count": 1,
   "id": "fa87faac",
   "metadata": {},
   "outputs": [],
   "source": [
    "import os\n",
    "from dinnovos import Agent, OpenAILLM"
   ]
  },
  {
   "cell_type": "code",
   "execution_count": 2,
   "id": "752dbe62",
   "metadata": {},
   "outputs": [],
   "source": [
    "API_KEY = os.getenv('OPENAI_API_KEY')"
   ]
  },
  {
   "cell_type": "markdown",
   "id": "a22328c9",
   "metadata": {},
   "source": [
    "#### Basic usage"
   ]
  },
  {
   "cell_type": "code",
   "execution_count": null,
   "id": "3f8f0f17",
   "metadata": {},
   "outputs": [],
   "source": [
    "# Create an LLM interface\n",
    "llm = OpenAILLM(\n",
    "    api_key=API_KEY,  # Replace with your API key\n",
    "    model=\"gpt-4.1-mini\"\n",
    ")"
   ]
  },
  {
   "cell_type": "code",
   "execution_count": null,
   "id": "cf044f02",
   "metadata": {},
   "outputs": [],
   "source": [
    "agent = Agent(\n",
    "    llm=llm,\n",
    "    system_prompt=\"You are a helpful Python programming assistant.\",\n",
    "    max_history=10\n",
    ")"
   ]
  },
  {
   "cell_type": "code",
   "execution_count": null,
   "id": "df43f4af",
   "metadata": {},
   "outputs": [],
   "source": [
    "agent.chat(\"What is a list comprehension in Python?\")"
   ]
  },
  {
   "cell_type": "markdown",
   "id": "43b65e48",
   "metadata": {},
   "source": [
    "#### With History"
   ]
  },
  {
   "cell_type": "code",
   "execution_count": null,
   "id": "0503308e",
   "metadata": {},
   "outputs": [],
   "source": [
    "# Create an LLM interface\n",
    "llm = OpenAILLM(\n",
    "    api_key=API_KEY,  # Replace with your API key\n",
    "    model=\"gpt-4.1-mini\"\n",
    ")"
   ]
  },
  {
   "cell_type": "code",
   "execution_count": null,
   "id": "241a0739",
   "metadata": {},
   "outputs": [],
   "source": [
    "agent = Agent(\n",
    "    llm=llm,\n",
    "    system_prompt=\"You are a personal assistant.\",\n",
    "    max_history=10\n",
    ")"
   ]
  },
  {
   "cell_type": "code",
   "execution_count": null,
   "id": "4455dc1c",
   "metadata": {},
   "outputs": [],
   "source": [
    "history = [\n",
    "    {\n",
    "        \"role\": \"user\",\n",
    "        \"content\": \"Hello, how are you?\",\n",
    "    },\n",
    "    {\n",
    "        \"role\": \"assistant\",\n",
    "        \"content\": \"I'm doing well, thank you for asking.\",\n",
    "    },\n",
    "    {\n",
    "        \"role\": \"user\",\n",
    "        \"content\": \"what is a banana?\",\n",
    "    }   \n",
    "]\n",
    "\n",
    "#agent.chat(content=\"what is a banana?\", history=history)\n",
    "agent.chat(history=history)"
   ]
  },
  {
   "cell_type": "markdown",
   "id": "0465ac80",
   "metadata": {},
   "source": [
    "#### Stream"
   ]
  },
  {
   "cell_type": "code",
   "execution_count": null,
   "id": "1625f06c",
   "metadata": {},
   "outputs": [],
   "source": [
    "llm = OpenAILLM(\n",
    "    api_key=API_KEY,  # Replace with your API key\n",
    "    model=\"gpt-4.1-mini\"\n",
    ")\n",
    "\n",
    "agent = Agent(\n",
    "    llm=llm\n",
    ")"
   ]
  },
  {
   "cell_type": "code",
   "execution_count": null,
   "id": "f557ed4f",
   "metadata": {},
   "outputs": [],
   "source": [
    "# Uso con streaming\n",
    "for chunk in agent.chat_stream(\"Hi, how are you?\"):\n",
    "    print(chunk, end=\"\", flush=True)"
   ]
  },
  {
   "cell_type": "markdown",
   "id": "fd9f7422",
   "metadata": {},
   "source": [
    "### Basic methods of OpenAI LLM"
   ]
  },
  {
   "cell_type": "code",
   "execution_count": 5,
   "id": "424841d6",
   "metadata": {},
   "outputs": [],
   "source": [
    "llm = OpenAILLM(api_key = API_KEY, model = \"gpt-4.1-mini\")\n",
    "\n",
    "messages = [\n",
    "    {\"role\": \"system\", \"content\": \"You are a helpful assistant called Max\"},\n",
    "    {\"role\": \"user\", \"content\": \"What is your name?\"}\n",
    "]"
   ]
  },
  {
   "cell_type": "markdown",
   "id": "fbb911aa",
   "metadata": {},
   "source": [
    "#### call method"
   ]
  },
  {
   "cell_type": "code",
   "execution_count": 4,
   "id": "27046154",
   "metadata": {},
   "outputs": [
    {
     "data": {
      "text/plain": [
       "'My name is Max. How can I assist you today?'"
      ]
     },
     "execution_count": 4,
     "metadata": {},
     "output_type": "execute_result"
    }
   ],
   "source": [
    "llm.call(messages=messages)"
   ]
  },
  {
   "cell_type": "markdown",
   "id": "d53a3323",
   "metadata": {},
   "source": [
    "#### call_stream method"
   ]
  },
  {
   "cell_type": "code",
   "execution_count": 6,
   "id": "bebc2253",
   "metadata": {},
   "outputs": [
    {
     "name": "stdout",
     "output_type": "stream",
     "text": [
      "My name is Max. How can I assist you today?"
     ]
    }
   ],
   "source": [
    "chunks =llm.call_stream(messages=messages)\n",
    "\n",
    "for chunk in chunks:\n",
    "    print(chunk, end=\"\", flush=True)"
   ]
  }
 ],
 "metadata": {
  "kernelspec": {
   "display_name": "vienv",
   "language": "python",
   "name": "python3"
  },
  "language_info": {
   "codemirror_mode": {
    "name": "ipython",
    "version": 3
   },
   "file_extension": ".py",
   "mimetype": "text/x-python",
   "name": "python",
   "nbconvert_exporter": "python",
   "pygments_lexer": "ipython3",
   "version": "3.13.1"
  }
 },
 "nbformat": 4,
 "nbformat_minor": 5
}
