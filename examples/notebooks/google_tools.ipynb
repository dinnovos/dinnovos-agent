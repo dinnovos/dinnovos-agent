{
 "cells": [
  {
   "cell_type": "code",
   "execution_count": null,
   "id": "395b2eb4",
   "metadata": {},
   "outputs": [],
   "source": [
    "import os\n",
    "import json\n",
    "from dinnovos.llms.google import GoogleLLM"
   ]
  },
  {
   "cell_type": "markdown",
   "id": "0d199432",
   "metadata": {},
   "source": [
    "## 1. Configure API Key"
   ]
  },
  {
   "cell_type": "code",
   "execution_count": null,
   "id": "eb89637a",
   "metadata": {},
   "outputs": [],
   "source": [
    "# Configure your OpenAI API key\n",
    "api_key = os.getenv(\"GOOGLE_API_KEY\") or \"your-api-key-here\"\n",
    "llm = GoogleLLM(\n",
    "    api_key=api_key, \n",
    "    model=\"gemini-2.5-flash\"\n",
    ")"
   ]
  },
  {
   "cell_type": "markdown",
   "id": "c6315ed6",
   "metadata": {},
   "source": [
    "# Define tools/functions"
   ]
  },
  {
   "cell_type": "code",
   "execution_count": null,
   "id": "69e518dc",
   "metadata": {},
   "outputs": [],
   "source": [
    "tools = [\n",
    "    {\n",
    "        \"type\": \"function\",\n",
    "        \"function\": {\n",
    "            \"name\": \"get_weather\",\n",
    "            \"description\": \"Get the current weather in a given location\",\n",
    "            \"parameters\": {\n",
    "                \"type\": \"object\",\n",
    "                \"properties\": {\n",
    "                    \"location\": {\n",
    "                        \"type\": \"string\",\n",
    "                        \"description\": \"The city and state, e.g. San Francisco, CA\"\n",
    "                    },\n",
    "                    \"unit\": {\n",
    "                        \"type\": \"string\",\n",
    "                        \"enum\": [\"celsius\", \"fahrenheit\"],\n",
    "                        \"description\": \"The temperature unit to use\"\n",
    "                    }\n",
    "                },\n",
    "                \"required\": [\"location\"]\n",
    "            }\n",
    "        }\n",
    "    },\n",
    "    {\n",
    "        \"type\": \"function\",\n",
    "        \"function\": {\n",
    "            \"name\": \"calculate\",\n",
    "            \"description\": \"Perform a mathematical calculation\",\n",
    "            \"parameters\": {\n",
    "                \"type\": \"object\",\n",
    "                \"properties\": {\n",
    "                    \"expression\": {\n",
    "                        \"type\": \"string\",\n",
    "                        \"description\": \"The mathematical expression to evaluate, e.g. '2 + 2'\"\n",
    "                    }\n",
    "                },\n",
    "                \"required\": [\"expression\"]\n",
    "            }\n",
    "        }\n",
    "    }\n",
    "]"
   ]
  },
  {
   "cell_type": "markdown",
   "id": "90813dca",
   "metadata": {},
   "source": [
    "# Mock function implementations"
   ]
  },
  {
   "cell_type": "code",
   "execution_count": null,
   "id": "cb8e7fc4",
   "metadata": {},
   "outputs": [],
   "source": [
    "def get_weather(location: str, unit: str = \"celsius\") -> dict:\n",
    "    \"\"\"Mock weather function\"\"\"\n",
    "    return {\n",
    "        \"location\": location,\n",
    "        \"temperature\": 22 if unit == \"celsius\" else 72,\n",
    "        \"unit\": unit,\n",
    "        \"condition\": \"Sunny\",\n",
    "        \"humidity\": 65\n",
    "    }\n",
    "\n",
    "\n",
    "def calculate(expression: str) -> dict:\n",
    "    \"\"\"Mock calculator function\"\"\"\n",
    "    try:\n",
    "        result = eval(expression)\n",
    "        return {\"expression\": expression, \"result\": result}\n",
    "    except Exception as e:\n",
    "        return {\"error\": str(e)}"
   ]
  },
  {
   "cell_type": "markdown",
   "id": "a869a958",
   "metadata": {},
   "source": [
    "# Function dispatcher"
   ]
  },
  {
   "cell_type": "code",
   "execution_count": null,
   "id": "9a196da2",
   "metadata": {},
   "outputs": [],
   "source": [
    "available_functions = {\n",
    "    \"get_weather\": get_weather,\n",
    "    \"calculate\": calculate\n",
    "}"
   ]
  },
  {
   "cell_type": "code",
   "execution_count": null,
   "id": "094f30b9",
   "metadata": {},
   "outputs": [],
   "source": [
    "# One call does it all!\n",
    "result = llm.call_with_function_execution(\n",
    "    messages=[{\"role\": \"user\", \"content\": \"What's the weather in Bogotá?\"}],\n",
    "    tools=tools,\n",
    "    available_functions=available_functions,\n",
    "    verbose=True  # See the complete process\n",
    ")\n",
    "\n",
    "print(f\"\\n{'='*70}\")\n",
    "print(\"📝 FINAL RESPONSE:\")\n",
    "print(result['content'])\n",
    "print(f\"\\n🔄 Iterations: {result['iterations']}\")\n",
    "print(f\"🔧 Functions called: {len(result['function_calls'])}\")"
   ]
  },
  {
   "cell_type": "markdown",
   "id": "e7e4018f",
   "metadata": {},
   "source": [
    "## Example 2: Multiple Functions"
   ]
  },
  {
   "cell_type": "code",
   "execution_count": null,
   "id": "c08868be",
   "metadata": {},
   "outputs": [],
   "source": [
    "result = llm.call_with_function_execution(\n",
    "    messages=[\n",
    "        {\"role\": \"user\", \"content\": \"Compare the weather in New York and London, and calculate 15 * 8\"}\n",
    "    ],\n",
    "    tools=tools,\n",
    "    available_functions=available_functions,\n",
    "    verbose=True\n",
    ")"
   ]
  },
  {
   "cell_type": "code",
   "execution_count": null,
   "id": "882fd7b6",
   "metadata": {},
   "outputs": [],
   "source": [
    "print(f\"\\n📝 Final response: {result['content']}\")\n",
    "print(f\"🔄 Iterations: {result['iterations']}\")\n",
    "print(f\"🔧 Functions called: {len(result['function_calls'])}\")"
   ]
  },
  {
   "cell_type": "markdown",
   "id": "e0c83d39",
   "metadata": {},
   "source": [
    "# Example 3: Silent mode"
   ]
  },
  {
   "cell_type": "code",
   "execution_count": null,
   "id": "e6ff6275",
   "metadata": {},
   "outputs": [],
   "source": [
    "result = llm.call_with_function_execution(\n",
    "    messages=[\n",
    "        {\"role\": \"user\", \"content\": \"Calculate 100 / 4 and tell me the result\"}\n",
    "    ],\n",
    "    tools=tools,\n",
    "    available_functions=available_functions,\n",
    "    verbose=False\n",
    ")\n",
    "    \n",
    "print(f\"📝 Response: {result['content']}\")"
   ]
  },
  {
   "cell_type": "markdown",
   "id": "a767ef2e",
   "metadata": {},
   "source": [
    "# Example 4: View complete history"
   ]
  },
  {
   "cell_type": "code",
   "execution_count": null,
   "id": "4bdc61b0",
   "metadata": {},
   "outputs": [],
   "source": [
    "result = llm.call_with_function_execution(\n",
    "    messages=[\n",
    "        {\"role\": \"user\", \"content\": \"What's the temperature in Tokyo?\"}\n",
    "    ],\n",
    "    tools=tools,\n",
    "    available_functions=available_functions,\n",
    "    temperature=0.5,\n",
    "    verbose=True\n",
    ")"
   ]
  },
  {
   "cell_type": "code",
   "execution_count": null,
   "id": "eeb71074",
   "metadata": {},
   "outputs": [],
   "source": [
    "# Show all function calls\n",
    "print(\"\\n\" + \"=\" * 70)\n",
    "print(\"Summary of all function calls\")\n",
    "print(\"=\" * 70)\n",
    "for i, func_call in enumerate(result['function_calls'], 1):\n",
    "    print(f\"\\n{i}. {func_call['name']}\")\n",
    "    print(f\"   Args: {func_call['arguments']}\")\n",
    "    print(f\"   Result: {func_call['result']}\")"
   ]
  }
 ],
 "metadata": {
  "kernelspec": {
   "display_name": "vienv",
   "language": "python",
   "name": "python3"
  },
  "language_info": {
   "codemirror_mode": {
    "name": "ipython",
    "version": 3
   },
   "file_extension": ".py",
   "mimetype": "text/x-python",
   "name": "python",
   "nbconvert_exporter": "python",
   "pygments_lexer": "ipython3",
   "version": "3.13.1"
  }
 },
 "nbformat": 4,
 "nbformat_minor": 5
}
