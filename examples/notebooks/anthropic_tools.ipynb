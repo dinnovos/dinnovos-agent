{
 "cells": [
  {
   "cell_type": "markdown",
   "metadata": {},
   "source": [
    "# Anthropic Claude Function Calling (Tools) Example\n",
    "This notebook demonstrates how to use function calling with Anthropic in Dinnovos Agent."
   ]
  },
  {
   "cell_type": "code",
   "execution_count": null,
   "metadata": {},
   "outputs": [],
   "source": [
    "import os\n",
    "import json\n",
    "from dinnovos.llms.anthropic import AnthropicLLM"
   ]
  },
  {
   "cell_type": "markdown",
   "metadata": {},
   "source": [
    "## 1. Configure API Key"
   ]
  },
  {
   "cell_type": "code",
   "execution_count": null,
   "metadata": {},
   "outputs": [],
   "source": [
    "# Configure your OpenAI API key\n",
    "api_key = os.getenv(\"ANTHROPIC_API_KEY\") or \"your-api-key-here\""
   ]
  },
  {
   "cell_type": "code",
   "execution_count": null,
   "metadata": {},
   "outputs": [],
   "source": [
    "# Create LLM instance\n",
    "llm = AnthropicLLM(api_key=api_key, model=\"claude-sonnet-4-20250514\")"
   ]
  },
  {
   "cell_type": "markdown",
   "metadata": {},
   "source": [
    "## 2. Define Tools (Functions)"
   ]
  },
  {
   "cell_type": "code",
   "execution_count": null,
   "metadata": {},
   "outputs": [],
   "source": [
    "# Define available tools\n",
    "tools = [\n",
    "    {\n",
    "        \"type\": \"function\",\n",
    "        \"function\": {\n",
    "            \"name\": \"get_weather\",\n",
    "            \"description\": \"Get the current weather in a location\",\n",
    "            \"parameters\": {\n",
    "                \"type\": \"object\",\n",
    "                \"properties\": {\n",
    "                    \"location\": {\n",
    "                        \"type\": \"string\",\n",
    "                        \"description\": \"The city and state, e.g. Bogotá, Colombia\"\n",
    "                    },\n",
    "                    \"unit\": {\n",
    "                        \"type\": \"string\",\n",
    "                        \"enum\": [\"celsius\", \"fahrenheit\"],\n",
    "                        \"description\": \"The temperature unit to use\"\n",
    "                    }\n",
    "                },\n",
    "                \"required\": [\"location\"]\n",
    "            }\n",
    "        }\n",
    "    },\n",
    "    {\n",
    "        \"type\": \"function\",\n",
    "        \"function\": {\n",
    "            \"name\": \"calculate\",\n",
    "            \"description\": \"Perform a mathematical calculation\",\n",
    "            \"parameters\": {\n",
    "                \"type\": \"object\",\n",
    "                \"properties\": {\n",
    "                    \"expression\": {\n",
    "                        \"type\": \"string\",\n",
    "                        \"description\": \"The mathematical expression to evaluate, e.g. '2 + 2'\"\n",
    "                    }\n",
    "                },\n",
    "                \"required\": [\"expression\"]\n",
    "            }\n",
    "        }\n",
    "    }\n",
    "]"
   ]
  },
  {
   "cell_type": "markdown",
   "metadata": {},
   "source": [
    "## 3. Implement the Functions"
   ]
  },
  {
   "cell_type": "code",
   "execution_count": null,
   "metadata": {},
   "outputs": [],
   "source": [
    "def get_weather(location: str, unit: str = \"celsius\") -> dict:\n",
    "    \"\"\"Mock weather function\"\"\"\n",
    "    return {\n",
    "        \"location\": location,\n",
    "        \"temperature\": 22 if unit == \"celsius\" else 72,\n",
    "        \"unit\": unit,\n",
    "        \"condition\": \"Sunny\",\n",
    "        \"humidity\": 65\n",
    "    }\n",
    "\n",
    "def calculate(expression: str) -> dict:\n",
    "    \"\"\"Calculator function\"\"\"\n",
    "    try:\n",
    "        result = eval(expression)\n",
    "        return {\"expression\": expression, \"result\": result}\n",
    "    except Exception as e:\n",
    "        return {\"error\": str(e)}\n",
    "\n",
    "# Dictionary of available functions\n",
    "available_functions = {\n",
    "    \"get_weather\": get_weather,\n",
    "    \"calculate\": calculate\n",
    "}"
   ]
  },
  {
   "cell_type": "markdown",
   "metadata": {},
   "source": [
    "---\n",
    "\n",
    "# 🚀 RECOMMENDED METHOD: call_with_function_execution()\n",
    "\n",
    "**The easiest way** to use function calling. Automatically handles the entire cycle."
   ]
  },
  {
   "cell_type": "markdown",
   "metadata": {},
   "source": [
    "## Example 1: Basic Usage (Automatic)"
   ]
  },
  {
   "cell_type": "code",
   "execution_count": null,
   "metadata": {},
   "outputs": [],
   "source": [
    "# One call does it all!\n",
    "result = llm.call_with_function_execution(\n",
    "    messages=[{\"role\": \"user\", \"content\": \"What's the weather in Bogotá?\"}],\n",
    "    tools=tools,\n",
    "    available_functions=available_functions,\n",
    "    verbose=True  # See the complete process\n",
    ")\n",
    "\n",
    "print(f\"\\n{'='*70}\")\n",
    "print(\"📝 FINAL RESPONSE:\")\n",
    "print(result['content'])\n",
    "print(f\"\\n🔄 Iterations: {result['iterations']}\")\n",
    "print(f\"🔧 Functions called: {len(result['function_calls'])}\")"
   ]
  },
  {
   "cell_type": "markdown",
   "metadata": {},
   "source": [
    "## Example 2: Multiple Functions"
   ]
  },
  {
   "cell_type": "code",
   "execution_count": null,
   "metadata": {},
   "outputs": [],
   "source": [
    "result = llm.call_with_function_execution(\n",
    "    messages=[{\"role\": \"user\", \"content\": \"Compare the weather in Bogotá and Medellín, and calculate 25 * 4\"}],\n",
    "    tools=tools,\n",
    "    available_functions=available_functions,\n",
    "    verbose=True\n",
    ")\n",
    "\n",
    "print(f\"\\n{'='*70}\")\n",
    "print(\"📝 FINAL RESPONSE:\")\n",
    "print(result['content'])\n",
    "print(f\"\\n🔄 Iterations: {result['iterations']}\")\n",
    "print(f\"🔧 Total functions called: {len(result['function_calls'])}\")"
   ]
  },
  {
   "cell_type": "markdown",
   "metadata": {},
   "source": [
    "## Example 3: Silent Mode"
   ]
  },
  {
   "cell_type": "code",
   "execution_count": null,
   "metadata": {},
   "outputs": [],
   "source": [
    "# Without verbose - just get the result\n",
    "result = llm.call_with_function_execution(\n",
    "    messages=[{\"role\": \"user\", \"content\": \"Calculate (100 + 50) / 3\"}],\n",
    "    tools=tools,\n",
    "    available_functions=available_functions,\n",
    "    verbose=False\n",
    ")\n",
    "\n",
    "print(\"Response:\", result['content'])"
   ]
  },
  {
   "cell_type": "markdown",
   "metadata": {},
   "source": [
    "## Example 2: Multiple Functions"
   ]
  },
  {
   "cell_type": "code",
   "execution_count": null,
   "metadata": {},
   "outputs": [],
   "source": [
    "result = llm.call_with_function_execution(\n",
    "    messages=[{\"role\": \"user\", \"content\": \"Compare the weather in Bogotá and Medellín, and calculate 25 * 4\"}],\n",
    "    tools=tools,\n",
    "    available_functions=available_functions,\n",
    "    verbose=True\n",
    ")\n",
    "\n",
    "print(f\"\\n{'='*70}\")\n",
    "print(\"📝 FINAL RESPONSE:\")\n",
    "print(result['content'])\n",
    "print(f\"\\n🔄 Iterations: {result['iterations']}\")\n",
    "print(f\"🔧 Total functions called: {len(result['function_calls'])}\")"
   ]
  },
  {
   "cell_type": "markdown",
   "metadata": {},
   "source": [
    "## Example 3: Silent Mode"
   ]
  },
  {
   "cell_type": "code",
   "execution_count": null,
   "metadata": {},
   "outputs": [],
   "source": [
    "# Without verbose - just get the result\n",
    "result = llm.call_with_function_execution(\n",
    "    messages=[{\"role\": \"user\", \"content\": \"Calculate (100 + 50) / 3\"}],\n",
    "    tools=tools,\n",
    "    available_functions=available_functions,\n",
    "    verbose=False\n",
    ")\n",
    "\n",
    "print(\"Response:\", result['content'])"
   ]
  },
  {
   "cell_type": "markdown",
   "metadata": {},
   "source": [
    "## Example 4: View Complete History"
   ]
  },
  {
   "cell_type": "code",
   "execution_count": null,
   "metadata": {},
   "outputs": [],
   "source": [
    "result = llm.call_with_function_execution(\n",
    "    messages=[{\"role\": \"user\", \"content\": \"What's the temperature in Cali?\"}],\n",
    "    tools=tools,\n",
    "    available_functions=available_functions\n",
    ")\n",
    "\n",
    "print(\"\\n📊 COMPLETE ANALYSIS:\")\n",
    "print(f\"\\n✅ Response: {result['content']}\")\n",
    "print(f\"\\n🔄 Iterations performed: {result['iterations']}\")\n",
    "print(f\"\\n🔧 Functions executed:\")\n",
    "for i, func_call in enumerate(result['function_calls'], 1):\n",
    "    print(f\"\\n  {i}. {func_call['name']}\")\n",
    "    print(f\"     Args: {func_call['arguments']}\")\n",
    "    print(f\"     Result: {func_call['result']}\")"
   ]
  },
  {
   "cell_type": "markdown",
   "metadata": {},
   "source": [
    "## Example 5: Streaming with Function Execution"
   ]
  },
  {
   "cell_type": "code",
   "execution_count": null,
   "metadata": {},
   "outputs": [],
   "source": [
    "print(\"=\" * 70)\n",
    "print(\"STREAMING WITH AUTOMATIC FUNCTION EXECUTION\")\n",
    "print(\"=\" * 70)\n",
    "\n",
    "for chunk in llm.call_stream_with_function_execution(\n",
    "    messages=[{\"role\": \"user\", \"content\": \"What's the weather in Bogotá?\"}],\n",
    "    tools=tools,\n",
    "    available_functions=available_functions,\n",
    "    verbose=True  # This will show debug info\n",
    "):\n",
    "    chunk_type = chunk.get(\"type\")\n",
    "    \n",
    "    if chunk_type == \"iteration_start\":\n",
    "        print(f\"\\n[Iteration {chunk.get('iteration')}]\")\n",
    "    \n",
    "    elif chunk_type == \"text_delta\":\n",
    "        # Stream text as it arrives\n",
    "        print(chunk.get(\"content\"), end=\"\", flush=True)\n",
    "    \n",
    "    elif chunk_type == \"function_call_start\":\n",
    "        # Function is being called\n",
    "        print(f\"\\n🔧 Calling: {chunk.get('function_name')}\")\n",
    "        print(f\"   Args: {chunk.get('arguments')}\")\n",
    "    \n",
    "    elif chunk_type == \"function_call_result\":\n",
    "        # Function completed\n",
    "        print(f\"✅ Result: {chunk.get('result')}\")\n",
    "    \n",
    "    elif chunk_type == \"final\":\n",
    "        # Final response\n",
    "        print(f\"\\n\\n{'='*70}\")\n",
    "        print(f\"Completed in {chunk.get('iterations')} iterations\")\n",
    "        print(f\"Functions called: {len(chunk.get('function_calls', []))}\")\n",
    "    \n",
    "    elif chunk_type == \"error\":\n",
    "        print(f\"\\n❌ Error: {chunk.get('content')}\")"
   ]
  },
  {
   "cell_type": "markdown",
   "metadata": {},
   "source": [
    "## Example 6: Streaming with Function Execution silently"
   ]
  },
  {
   "cell_type": "code",
   "execution_count": null,
   "metadata": {},
   "outputs": [],
   "source": [
    "# Streaming with Function Execution silently\n",
    "for chunk in llm.call_stream_with_function_execution(\n",
    "    messages=[{\"role\": \"user\", \"content\": \"What's the weather in Bogotá?\"}],\n",
    "    tools=tools,\n",
    "    available_functions=available_functions,\n",
    "    verbose=False  # Silent mode - no debug info in console\n",
    "):\n",
    "    chunk_type = chunk.get(\"type\")\n",
    "    \n",
    "    if chunk_type == \"iteration_start\":\n",
    "        print(f\"\\n[Iteration {chunk.get('iteration')}]\")\n",
    "    \n",
    "    elif chunk_type == \"text_delta\":\n",
    "        # Stream text as it arrives\n",
    "        print(chunk.get(\"content\"), end=\"\", flush=True)\n",
    "    \n",
    "    elif chunk_type == \"function_call_start\":\n",
    "        # Function is being called\n",
    "        print(f\"\\n🔧 Calling: {chunk.get('function_name')}\")\n",
    "        print(f\"   Args: {chunk.get('arguments')}\")\n",
    "    \n",
    "    elif chunk_type == \"function_call_result\":\n",
    "        # Function completed\n",
    "        print(f\"   ✅ Result: {chunk.get('result')}\")\n",
    "    \n",
    "    elif chunk_type == \"final\":\n",
    "        # Final response\n",
    "        print(f\"\\n\\n{'='*70}\")\n",
    "        print(f\"Completed in {chunk.get('iterations')} iterations\")\n",
    "        print(f\"Functions called: {len(chunk.get('function_calls', []))}\")\n",
    "    \n",
    "    elif chunk_type == \"error\":\n",
    "        print(f\"\\n❌ Error: {chunk.get('content')}\")"
   ]
  },
  {
   "cell_type": "markdown",
   "metadata": {},
   "source": [
    "## Example 6: Streaming with Multiple Functions\n",
    "\n",
    "Test streaming with a more complex query that requires multiple function calls."
   ]
  },
  {
   "cell_type": "code",
   "execution_count": null,
   "metadata": {},
   "outputs": [],
   "source": [
    "print(\"=\" * 70)\n",
    "print(\"STREAMING: Multiple Functions\")\n",
    "print(\"=\" * 70)\n",
    "\n",
    "for chunk in llm.call_stream_with_function_execution(\n",
    "    messages=[{\"role\": \"user\", \"content\": \"What's the weather in Bogotá and calculate 15 * 7\"}],\n",
    "    tools=tools,\n",
    "    available_functions=available_functions,\n",
    "    verbose=False  # Set to True to see debug info\n",
    "):\n",
    "    chunk_type = chunk.get(\"type\")\n",
    "    \n",
    "    if chunk_type == \"iteration_start\":\n",
    "        iteration = chunk.get('iteration')\n",
    "        if iteration > 1:\n",
    "            print(f\"\\n\\n[Iteration {iteration}]\")\n",
    "    \n",
    "    elif chunk_type == \"text_delta\":\n",
    "        print(chunk.get(\"content\"), end=\"\", flush=True)\n",
    "    \n",
    "    elif chunk_type == \"function_call_start\":\n",
    "        print(f\"\\n\\n🔧 Calling: {chunk.get('function_name')}\")\n",
    "        print(f\"   Args: {chunk.get('arguments')}\")\n",
    "    \n",
    "    elif chunk_type == \"function_call_result\":\n",
    "        print(f\"✅ Result: {chunk.get('result')}\")\n",
    "    \n",
    "    elif chunk_type == \"final\":\n",
    "        print(f\"\\n\\n{'='*70}\")\n",
    "        print(f\"✅ Completed in {chunk.get('iterations')} iterations\")\n",
    "        \n",
    "        for i, func_call in enumerate(chunk.get('function_calls', []), 1):\n",
    "            print(f\"\\n{i}. {func_call['name']}: {func_call['result']}\")\n",
    "    \n",
    "    elif chunk_type == \"error\":\n",
    "        print(f\"\\n❌ Error: {chunk.get('content')}\")"
   ]
  }
 ],
 "metadata": {
  "kernelspec": {
   "display_name": "vienv",
   "language": "python",
   "name": "python3"
  },
  "language_info": {
   "codemirror_mode": {
    "name": "ipython",
    "version": 3
   },
   "file_extension": ".py",
   "mimetype": "text/x-python",
   "name": "python",
   "nbconvert_exporter": "python",
   "pygments_lexer": "ipython3",
   "version": "3.13.1"
  }
 },
 "nbformat": 4,
 "nbformat_minor": 4
}
