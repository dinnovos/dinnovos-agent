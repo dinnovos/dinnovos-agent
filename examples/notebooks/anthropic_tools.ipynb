{
 "cells": [
  {
   "cell_type": "markdown",
   "metadata": {},
   "source": [
    "# Anthropic Claude Tool Use (Function Calling) Example\n",
    "\n",
    "This notebook demonstrates how to use tool use (function calling) with Anthropic Claude in Dinnovos Agent."
   ]
  },
  {
   "cell_type": "code",
   "execution_count": null,
   "metadata": {},
   "outputs": [],
   "source": [
    "import os\n",
    "import json\n",
    "from dinnovos.llms.anthropic import AnthropicLLM"
   ]
  },
  {
   "cell_type": "markdown",
   "metadata": {},
   "source": [
    "## 1. Configure API Key"
   ]
  },
  {
   "cell_type": "code",
   "execution_count": null,
   "metadata": {},
   "outputs": [],
   "source": [
    "# Configure your Anthropic API key\n",
    "api_key = os.getenv(\"ANTHROPIC_API_KEY\") or \"your-api-key-here\"\n",
    "llm = AnthropicLLM(\n",
    "    api_key=api_key, \n",
    "    model=\"claude-sonnet-4-20250514\"\n",
    ")"
   ]
  },
  {
   "cell_type": "markdown",
   "metadata": {},
   "source": [
    "## 2. Define Tools (Functions)"
   ]
  },
  {
   "cell_type": "code",
   "execution_count": null,
   "metadata": {},
   "outputs": [],
   "source": [
    "# Define available tools\n",
    "tools = [\n",
    "    {\n",
    "        \"type\": \"function\",\n",
    "        \"function\": {\n",
    "            \"name\": \"get_weather\",\n",
    "            \"description\": \"Get the current weather in a location\",\n",
    "            \"parameters\": {\n",
    "                \"type\": \"object\",\n",
    "                \"properties\": {\n",
    "                    \"location\": {\n",
    "                        \"type\": \"string\",\n",
    "                        \"description\": \"The city and state, e.g. Bogotá, Colombia\"\n",
    "                    },\n",
    "                    \"unit\": {\n",
    "                        \"type\": \"string\",\n",
    "                        \"enum\": [\"celsius\", \"fahrenheit\"],\n",
    "                        \"description\": \"The temperature unit to use\"\n",
    "                    }\n",
    "                },\n",
    "                \"required\": [\"location\"]\n",
    "            }\n",
    "        }\n",
    "    },\n",
    "    {\n",
    "        \"type\": \"function\",\n",
    "        \"function\": {\n",
    "            \"name\": \"calculate\",\n",
    "            \"description\": \"Perform a mathematical calculation\",\n",
    "            \"parameters\": {\n",
    "                \"type\": \"object\",\n",
    "                \"properties\": {\n",
    "                    \"expression\": {\n",
    "                        \"type\": \"string\",\n",
    "                        \"description\": \"The mathematical expression to evaluate, e.g. '2 + 2'\"\n",
    "                    }\n",
    "                },\n",
    "                \"required\": [\"expression\"]\n",
    "            }\n",
    "        }\n",
    "    }\n",
    "]\n",
    "\n",
    "print(\"Tools defined:\", json.dumps(tools, indent=2))"
   ]
  },
  {
   "cell_type": "markdown",
   "metadata": {},
   "source": [
    "## 3. Implement the Functions"
   ]
  },
  {
   "cell_type": "code",
   "execution_count": null,
   "metadata": {},
   "outputs": [],
   "source": [
    "def get_weather(location: str, unit: str = \"celsius\") -> dict:\n",
    "    \"\"\"Mock weather function\"\"\"\n",
    "    return {\n",
    "        \"location\": location,\n",
    "        \"temperature\": 22 if unit == \"celsius\" else 72,\n",
    "        \"unit\": unit,\n",
    "        \"condition\": \"Sunny\",\n",
    "        \"humidity\": 65\n",
    "    }\n",
    "\n",
    "def calculate(expression: str) -> dict:\n",
    "    \"\"\"Calculator function\"\"\"\n",
    "    try:\n",
    "        result = eval(expression)\n",
    "        return {\"expression\": expression, \"result\": result}\n",
    "    except Exception as e:\n",
    "        return {\"error\": str(e)}\n",
    "\n",
    "# Dictionary of available functions\n",
    "available_functions = {\n",
    "    \"get_weather\": get_weather,\n",
    "    \"calculate\": calculate\n",
    "}"
   ]
  },
  {
   "cell_type": "markdown",
   "metadata": {},
   "source": [
    "---\n",
    "\n",
    "# 🚀 RECOMMENDED METHOD: call_with_function_execution()\n",
    "\n",
    "**The easiest way** to use tool use with Claude. Automatically handles the entire cycle.\n",
    "\n",
    "**Note:** If you get an error about \"system: Input should be a valid list\", make sure you're using the latest version of the dinnovos library. The fix ensures that the system parameter is only included when there's an actual system message."
   ]
  },
  {
   "cell_type": "markdown",
   "metadata": {},
   "source": [
    "## Example 1: Basic Usage (Automatic)"
   ]
  },
  {
   "cell_type": "code",
   "execution_count": null,
   "metadata": {},
   "outputs": [],
   "source": [
    "# One call does it all!\n",
    "result = llm.call_with_function_execution(\n",
    "    messages=[{\"role\": \"user\", \"content\": \"What's the weather in Bogotá?\"}],\n",
    "    tools=tools,\n",
    "    available_functions=available_functions,\n",
    "    verbose=True  # See the complete process\n",
    ")\n",
    "\n",
    "print(f\"\\n{'='*70}\")\n",
    "print(\"📝 FINAL RESPONSE:\")\n",
    "print(result['content'])\n",
    "print(f\"\\n🔄 Iterations: {result['iterations']}\")\n",
    "print(f\"🔧 Functions called: {len(result['function_calls'])}\")"
   ]
  },
  {
   "cell_type": "markdown",
   "metadata": {},
   "source": [
    "## Example 2: Multiple Functions"
   ]
  },
  {
   "cell_type": "code",
   "execution_count": null,
   "metadata": {},
   "outputs": [],
   "source": [
    "result = llm.call_with_function_execution(\n",
    "    messages=[{\"role\": \"user\", \"content\": \"Compare the weather in Bogotá and Medellín, and calculate 25 * 4\"}],\n",
    "    tools=tools,\n",
    "    available_functions=available_functions,\n",
    "    verbose=True\n",
    ")\n",
    "\n",
    "print(f\"\\n{'='*70}\")\n",
    "print(\"📝 FINAL RESPONSE:\")\n",
    "print(result['content'])\n",
    "print(f\"\\n🔄 Iterations: {result['iterations']}\")\n",
    "print(f\"🔧 Total functions called: {len(result['function_calls'])}\")"
   ]
  },
  {
   "cell_type": "markdown",
   "metadata": {},
   "source": [
    "## Example 3: Silent Mode"
   ]
  },
  {
   "cell_type": "code",
   "execution_count": null,
   "metadata": {},
   "outputs": [],
   "source": [
    "# Without verbose - just get the result\n",
    "result = llm.call_with_function_execution(\n",
    "    messages=[{\"role\": \"user\", \"content\": \"Calculate (100 + 50) / 3\"}],\n",
    "    tools=tools,\n",
    "    available_functions=available_functions,\n",
    "    verbose=False\n",
    ")\n",
    "\n",
    "print(\"Response:\", result['content'])"
   ]
  },
  {
   "cell_type": "markdown",
   "metadata": {},
   "source": [
    "## Example 4: Force Tool Use with tool_choice='any'"
   ]
  },
  {
   "cell_type": "code",
   "execution_count": null,
   "metadata": {},
   "outputs": [],
   "source": [
    "# Force Claude to use a tool even if it might not be necessary\n",
    "result = llm.call_with_function_execution(\n",
    "    messages=[{\"role\": \"user\", \"content\": \"Tell me about weather\"}],\n",
    "    tools=tools,\n",
    "    available_functions=available_functions,\n",
    "    tool_choice=\"any\",  # Force tool use\n",
    "    verbose=True\n",
    ")\n",
    "\n",
    "print(f\"\\n{'='*70}\")\n",
    "print(\"📝 FINAL RESPONSE:\")\n",
    "print(result['content'])"
   ]
  },
  {
   "cell_type": "markdown",
   "metadata": {},
   "source": [
    "## Example 5: View Complete History"
   ]
  },
  {
   "cell_type": "code",
   "execution_count": null,
   "metadata": {},
   "outputs": [],
   "source": [
    "result = llm.call_with_function_execution(\n",
    "    messages=[{\"role\": \"user\", \"content\": \"What's the temperature in Cali in fahrenheit?\"}],\n",
    "    tools=tools,\n",
    "    available_functions=available_functions\n",
    ")\n",
    "\n",
    "print(\"\\n📊 COMPLETE ANALYSIS:\")\n",
    "print(f\"\\n✅ Response: {result['content']}\")\n",
    "print(f\"\\n🔄 Iterations performed: {result['iterations']}\")\n",
    "print(f\"\\n🔧 Functions executed:\")\n",
    "for i, func_call in enumerate(result['function_calls'], 1):\n",
    "    print(f\"\\n  {i}. {func_call['name']}\")\n",
    "    print(f\"     Args: {func_call['arguments']}\")\n",
    "    print(f\"     Result: {func_call['result']}\")"
   ]
  },
  {
   "cell_type": "markdown",
   "metadata": {},
   "source": [
    "---\n",
    "\n",
    "# Manual Methods (Advanced)\n",
    "\n",
    "If you need full control over the process, you can use the low-level methods."
   ]
  },
  {
   "cell_type": "markdown",
   "metadata": {},
   "source": [
    "## 6. Example: Simple Call with Tools (Manual)"
   ]
  },
  {
   "cell_type": "code",
   "execution_count": null,
   "metadata": {},
   "outputs": [],
   "source": [
    "messages = [\n",
    "    {\"role\": \"user\", \"content\": \"What's the weather in Bogotá?\"}\n",
    "]\n",
    "\n",
    "response = llm.call_with_tools(messages, tools)\n",
    "print(\"Initial response:\")\n",
    "print(json.dumps(response, indent=2))"
   ]
  },
  {
   "cell_type": "code",
   "execution_count": null,
   "metadata": {},
   "outputs": [],
   "source": [
    "# Execute tool calls if they exist\n",
    "if response[\"tool_calls\"]:\n",
    "    for tool_call in response[\"tool_calls\"]:\n",
    "        function_name = tool_call[\"function\"][\"name\"]\n",
    "        function_args = json.loads(tool_call[\"function\"][\"arguments\"])\n",
    "        \n",
    "        print(f\"\\n🔧 Calling function: {function_name}\")\n",
    "        print(f\"📋 Arguments: {function_args}\")\n",
    "        \n",
    "        # Execute the function\n",
    "        function_to_call = available_functions[function_name]\n",
    "        function_response = function_to_call(**function_args)\n",
    "        \n",
    "        print(f\"✅ Function response: {json.dumps(function_response)}\")\n",
    "        \n",
    "        # Add the function response to messages\n",
    "        messages.append({\n",
    "            \"role\": \"assistant\",\n",
    "            \"content\": None,\n",
    "            \"tool_calls\": response[\"tool_calls\"]\n",
    "        })\n",
    "        messages.append({\n",
    "            \"role\": \"tool\",\n",
    "            \"tool_call_id\": tool_call[\"id\"],\n",
    "            \"name\": function_name,\n",
    "            \"content\": json.dumps(function_response)\n",
    "        })\n",
    "    \n",
    "    # Get final response\n",
    "    final_response = llm.call_with_tools(messages, tools)\n",
    "    print(f\"\\n💬 Final Claude response: {final_response['content']}\")"
   ]
  },
  {
   "cell_type": "markdown",
   "metadata": {},
   "source": [
    "## 7. Claude-Specific Features\n",
    "\n",
    "Claude has some unique features for tool use:\n",
    "\n",
    "- **`tool_choice=\"any\"`**: Forces Claude to use at least one tool\n",
    "- **`tool_choice=\"auto\"`**: Claude decides whether to use tools (default)\n",
    "- **Multiple tool calls**: Claude can call multiple tools in parallel\n",
    "- **Rich context**: Claude maintains excellent context across tool calls"
   ]
  }
 ],
 "metadata": {
  "kernelspec": {
   "display_name": "vienv",
   "language": "python",
   "name": "python3"
  },
  "language_info": {
   "codemirror_mode": {
    "name": "ipython",
    "version": 3
   },
   "file_extension": ".py",
   "mimetype": "text/x-python",
   "name": "python",
   "nbconvert_exporter": "python",
   "pygments_lexer": "ipython3",
   "version": "3.13.1"
  }
 },
 "nbformat": 4,
 "nbformat_minor": 4
}
