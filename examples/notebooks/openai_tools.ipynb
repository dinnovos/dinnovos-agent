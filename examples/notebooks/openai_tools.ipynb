{
 "cells": [
  {
   "cell_type": "markdown",
   "metadata": {},
   "source": [
    "# OpenAI Function Calling (Tools) Example\n",
    "\n",
    "This notebook demonstrates how to use function calling with OpenAI in Dinnovos Agent."
   ]
  },
  {
   "cell_type": "code",
   "execution_count": 1,
   "metadata": {},
   "outputs": [],
   "source": [
    "import os\n",
    "import json\n",
    "from dinnovos.llms.openai import OpenAILLM"
   ]
  },
  {
   "cell_type": "markdown",
   "metadata": {},
   "source": [
    "## 1. Configure API Key"
   ]
  },
  {
   "cell_type": "code",
   "execution_count": 2,
   "metadata": {},
   "outputs": [],
   "source": [
    "# Configure your OpenAI API key\n",
    "api_key = os.getenv(\"OPENAI_API_KEY\") or \"your-api-key-here\""
   ]
  },
  {
   "cell_type": "code",
   "execution_count": 3,
   "metadata": {},
   "outputs": [],
   "source": [
    "# Create LLM instance\n",
    "llm = OpenAILLM(api_key=api_key, model=\"gpt-4\")"
   ]
  },
  {
   "cell_type": "markdown",
   "metadata": {},
   "source": [
    "## 2. Define Tools (Functions)"
   ]
  },
  {
   "cell_type": "code",
   "execution_count": 4,
   "metadata": {},
   "outputs": [],
   "source": [
    "# Define available tools\n",
    "tools = [\n",
    "    {\n",
    "        \"type\": \"function\",\n",
    "        \"function\": {\n",
    "            \"name\": \"get_weather\",\n",
    "            \"description\": \"Get the current weather in a location\",\n",
    "            \"parameters\": {\n",
    "                \"type\": \"object\",\n",
    "                \"properties\": {\n",
    "                    \"location\": {\n",
    "                        \"type\": \"string\",\n",
    "                        \"description\": \"The city and state, e.g. Bogotá, Colombia\"\n",
    "                    },\n",
    "                    \"unit\": {\n",
    "                        \"type\": \"string\",\n",
    "                        \"enum\": [\"celsius\", \"fahrenheit\"],\n",
    "                        \"description\": \"The temperature unit to use\"\n",
    "                    }\n",
    "                },\n",
    "                \"required\": [\"location\"]\n",
    "            }\n",
    "        }\n",
    "    },\n",
    "    {\n",
    "        \"type\": \"function\",\n",
    "        \"function\": {\n",
    "            \"name\": \"calculate\",\n",
    "            \"description\": \"Perform a mathematical calculation\",\n",
    "            \"parameters\": {\n",
    "                \"type\": \"object\",\n",
    "                \"properties\": {\n",
    "                    \"expression\": {\n",
    "                        \"type\": \"string\",\n",
    "                        \"description\": \"The mathematical expression to evaluate, e.g. '2 + 2'\"\n",
    "                    }\n",
    "                },\n",
    "                \"required\": [\"expression\"]\n",
    "            }\n",
    "        }\n",
    "    }\n",
    "]"
   ]
  },
  {
   "cell_type": "markdown",
   "metadata": {},
   "source": [
    "## 3. Implement the Functions"
   ]
  },
  {
   "cell_type": "code",
   "execution_count": 5,
   "metadata": {},
   "outputs": [],
   "source": [
    "def get_weather(location: str, unit: str = \"celsius\") -> str:\n",
    "    \"\"\"Mock weather function\"\"\"\n",
    "    return json.dumps({\n",
    "        \"location\": location,\n",
    "        \"temperature\": 22 if unit == \"celsius\" else 72,\n",
    "        \"unit\": unit,\n",
    "        \"condition\": \"Sunny\",\n",
    "        \"humidity\": 65\n",
    "    })\n",
    "\n",
    "def calculate(expression: str) -> str:\n",
    "    \"\"\"Calculator function\"\"\"\n",
    "    try:\n",
    "        result = eval(expression)\n",
    "        return json.dumps({\"expression\": expression, \"result\": result})\n",
    "    except Exception as e:\n",
    "        return json.dumps({\"error\": str(e)})\n",
    "\n",
    "# Dictionary of available functions\n",
    "available_functions = {\n",
    "    \"get_weather\": get_weather,\n",
    "    \"calculate\": calculate\n",
    "}"
   ]
  },
  {
   "cell_type": "markdown",
   "metadata": {},
   "source": [
    "---\n",
    "\n",
    "# 🚀 RECOMMENDED METHOD: call_with_function_execution()\n",
    "\n",
    "**The easiest way** to use function calling. Automatically handles the entire cycle."
   ]
  },
  {
   "cell_type": "markdown",
   "metadata": {},
   "source": [
    "## Example 1: Basic Usage (Automatic)"
   ]
  },
  {
   "cell_type": "code",
   "execution_count": 6,
   "metadata": {},
   "outputs": [
    {
     "name": "stdout",
     "output_type": "stream",
     "text": [
      "\n",
      "📊 Context: 17 tokens (0.01% used)\n",
      "\n",
      "============================================================\n",
      "Iteration 1\n",
      "============================================================\n",
      "\n",
      "🔧 Calling function: get_weather\n",
      "📋 Arguments: {'location': 'Bogotá, Colombia', 'unit': 'celsius'}\n",
      "✅ Result: {\"location\": \"Bogot\\u00e1, Colombia\", \"temperature\": 22, \"unit\": \"celsius\", \"condition\": \"Sunny\", \"humidity\": 65}\n",
      "\n",
      "📊 Context: 37 tokens (0.03% used)\n",
      "\n",
      "============================================================\n",
      "Iteration 2\n",
      "============================================================\n",
      "\n",
      "✅ Final response: The current weather in Bogotá, Colombia is sunny with a temperature of 22 degrees Celsius and a humidity of 65%.The current weather in Bogotá, Colombia is sunny with a temperature of 22 degrees Celsius and a humidity of 65%.\n",
      "\n",
      "======================================================================\n",
      "📝 FINAL RESPONSE:\n",
      "The current weather in Bogotá, Colombia is sunny with a temperature of 22 degrees Celsius and a humidity of 65%.The current weather in Bogotá, Colombia is sunny with a temperature of 22 degrees Celsius and a humidity of 65%.\n",
      "\n",
      "🔄 Iterations: 2\n",
      "🔧 Functions called: 1\n"
     ]
    }
   ],
   "source": [
    "# One call does it all!\n",
    "result = llm.call_with_function_execution(\n",
    "    messages=[{\"role\": \"user\", \"content\": \"What's the weather in Bogotá?\"}],\n",
    "    tools=tools,\n",
    "    available_functions=available_functions,\n",
    "    verbose=True  # See the complete process\n",
    ")\n",
    "\n",
    "print(f\"\\n{'='*70}\")\n",
    "print(\"📝 FINAL RESPONSE:\")\n",
    "print(result['content'])\n",
    "print(f\"\\n🔄 Iterations: {result['iterations']}\")\n",
    "print(f\"🔧 Functions called: {len(result['function_calls'])}\")"
   ]
  },
  {
   "cell_type": "markdown",
   "metadata": {},
   "source": [
    "## Example 2: Multiple Functions"
   ]
  },
  {
   "cell_type": "code",
   "execution_count": 7,
   "metadata": {},
   "outputs": [
    {
     "name": "stdout",
     "output_type": "stream",
     "text": [
      "\n",
      "📊 Context: 26 tokens (0.02% used)\n",
      "\n",
      "============================================================\n",
      "Iteration 1\n",
      "============================================================\n",
      "\n",
      "🔧 Calling function: get_weather\n",
      "📋 Arguments: {'location': 'Bogotá, Colombia', 'unit': 'celsius'}\n",
      "✅ Result: {\"location\": \"Bogot\\u00e1, Colombia\", \"temperature\": 22, \"unit\": \"celsius\", \"condition\": \"Sunny\", \"humidity\": 65}\n",
      "\n",
      "🔧 Calling function: get_weather\n",
      "📋 Arguments: {'location': 'Medellín, Colombia', 'unit': 'celsius'}\n",
      "✅ Result: {\"location\": \"Medell\\u00edn, Colombia\", \"temperature\": 22, \"unit\": \"celsius\", \"condition\": \"Sunny\", \"humidity\": 65}\n",
      "\n",
      "🔧 Calling function: calculate\n",
      "📋 Arguments: {'expression': '25 * 4'}\n",
      "✅ Result: {\"expression\": \"25 * 4\", \"result\": 100}\n",
      "\n",
      "📊 Context: 86 tokens (0.07% used)\n",
      "\n",
      "============================================================\n",
      "Iteration 2\n",
      "============================================================\n",
      "\n",
      "✅ Final response: The weather in both Bogotá and Medellín, Colombia is currently sunny with a temperature of 22 degrees Celsius and a humidity of 65%. \n",
      "\n",
      "The result of the calculation 25 * 4 is 100.The weather in both Bogotá and Medellín, Colombia is currently sunny with a temperature of 22 degrees Celsius and a humidity of 65%. \n",
      "\n",
      "The result of the calculation 25 * 4 is 100.\n",
      "\n",
      "======================================================================\n",
      "📝 FINAL RESPONSE:\n",
      "The weather in both Bogotá and Medellín, Colombia is currently sunny with a temperature of 22 degrees Celsius and a humidity of 65%. \n",
      "\n",
      "The result of the calculation 25 * 4 is 100.The weather in both Bogotá and Medellín, Colombia is currently sunny with a temperature of 22 degrees Celsius and a humidity of 65%. \n",
      "\n",
      "The result of the calculation 25 * 4 is 100.\n",
      "\n",
      "🔄 Iterations: 2\n",
      "🔧 Total functions called: 3\n"
     ]
    }
   ],
   "source": [
    "result = llm.call_with_function_execution(\n",
    "    messages=[{\"role\": \"user\", \"content\": \"Compare the weather in Bogotá and Medellín, and calculate 25 * 4\"}],\n",
    "    tools=tools,\n",
    "    available_functions=available_functions,\n",
    "    verbose=True\n",
    ")\n",
    "\n",
    "print(f\"\\n{'='*70}\")\n",
    "print(\"📝 FINAL RESPONSE:\")\n",
    "print(result['content'])\n",
    "print(f\"\\n🔄 Iterations: {result['iterations']}\")\n",
    "print(f\"🔧 Total functions called: {len(result['function_calls'])}\")"
   ]
  },
  {
   "cell_type": "markdown",
   "metadata": {},
   "source": [
    "## Example 3: Silent Mode"
   ]
  },
  {
   "cell_type": "code",
   "execution_count": 8,
   "metadata": {},
   "outputs": [
    {
     "name": "stdout",
     "output_type": "stream",
     "text": [
      "Response: The result of the calculation (100 + 50) / 3 is 50.The result of the calculation (100 + 50) / 3 is 50.\n"
     ]
    }
   ],
   "source": [
    "# Without verbose - just get the result\n",
    "result = llm.call_with_function_execution(\n",
    "    messages=[{\"role\": \"user\", \"content\": \"Calculate (100 + 50) / 3\"}],\n",
    "    tools=tools,\n",
    "    available_functions=available_functions,\n",
    "    verbose=False\n",
    ")\n",
    "\n",
    "print(\"Response:\", result['content'])"
   ]
  },
  {
   "cell_type": "markdown",
   "metadata": {},
   "source": [
    "## Example 4: View Complete History"
   ]
  },
  {
   "cell_type": "code",
   "execution_count": 9,
   "metadata": {},
   "outputs": [
    {
     "name": "stdout",
     "output_type": "stream",
     "text": [
      "\n",
      "📊 COMPLETE ANALYSIS:\n",
      "\n",
      "✅ Response: The current temperature in Cali, Colombia is 22°C. The weather is sunny with a humidity of 65%.The current temperature in Cali, Colombia is 22°C. The weather is sunny with a humidity of 65%.\n",
      "\n",
      "🔄 Iterations performed: 2\n",
      "\n",
      "🔧 Functions executed:\n",
      "\n",
      "  1. get_weather\n",
      "     Args: {'location': 'Cali, Colombia', 'unit': 'celsius'}\n",
      "     Result: {\"location\": \"Cali, Colombia\", \"temperature\": 22, \"unit\": \"celsius\", \"condition\": \"Sunny\", \"humidity\": 65}\n"
     ]
    }
   ],
   "source": [
    "result = llm.call_with_function_execution(\n",
    "    messages=[{\"role\": \"user\", \"content\": \"What's the temperature in Cali?\"}],\n",
    "    tools=tools,\n",
    "    available_functions=available_functions\n",
    ")\n",
    "\n",
    "print(\"\\n📊 COMPLETE ANALYSIS:\")\n",
    "print(f\"\\n✅ Response: {result['content']}\")\n",
    "print(f\"\\n🔄 Iterations performed: {result['iterations']}\")\n",
    "print(f\"\\n🔧 Functions executed:\")\n",
    "for i, func_call in enumerate(result['function_calls'], 1):\n",
    "    print(f\"\\n  {i}. {func_call['name']}\")\n",
    "    print(f\"     Args: {func_call['arguments']}\")\n",
    "    print(f\"     Result: {func_call['result']}\")"
   ]
  },
  {
   "cell_type": "markdown",
   "metadata": {},
   "source": [
    "## Example 5: Streaming with Function Execution"
   ]
  },
  {
   "cell_type": "code",
   "execution_count": 10,
   "metadata": {},
   "outputs": [
    {
     "name": "stdout",
     "output_type": "stream",
     "text": [
      "======================================================================\n",
      "STREAMING WITH AUTOMATIC FUNCTION EXECUTION\n",
      "======================================================================\n",
      "\n",
      "📊 Context: 17 tokens (0.01% used)\n",
      "\n",
      "============================================================\n",
      "Iteration 1\n",
      "============================================================\n",
      "\n",
      "[Iteration 1]\n",
      "[DEBUG] Event type: response.created\n",
      "[DEBUG] Event type: response.in_progress\n",
      "[DEBUG] Event type: response.output_item.added\n",
      "[DEBUG] Function call started: get_weather\n",
      "[DEBUG] Event type: response.function_call_arguments.delta\n",
      "[DEBUG] Event type: response.function_call_arguments.delta\n",
      "[DEBUG] Event type: response.function_call_arguments.delta\n",
      "[DEBUG] Event type: response.function_call_arguments.delta\n",
      "[DEBUG] Event type: response.function_call_arguments.delta\n",
      "[DEBUG] Event type: response.function_call_arguments.delta\n",
      "[DEBUG] Event type: response.function_call_arguments.delta\n",
      "[DEBUG] Event type: response.function_call_arguments.delta\n",
      "[DEBUG] Event type: response.function_call_arguments.delta\n",
      "[DEBUG] Event type: response.function_call_arguments.delta\n",
      "[DEBUG] Event type: response.function_call_arguments.delta\n",
      "[DEBUG] Event type: response.function_call_arguments.delta\n",
      "[DEBUG] Event type: response.function_call_arguments.delta\n",
      "[DEBUG] Event type: response.function_call_arguments.delta\n",
      "[DEBUG] Event type: response.function_call_arguments.delta\n",
      "[DEBUG] Event type: response.function_call_arguments.delta\n",
      "[DEBUG] Event type: response.function_call_arguments.delta\n",
      "[DEBUG] Event type: response.function_call_arguments.delta\n",
      "[DEBUG] Event type: response.function_call_arguments.delta\n",
      "[DEBUG] Event type: response.function_call_arguments.delta\n",
      "[DEBUG] Event type: response.function_call_arguments.delta\n",
      "[DEBUG] Event type: response.function_call_arguments.delta\n",
      "[DEBUG] Event type: response.function_call_arguments.done\n",
      "[DEBUG] Function call complete: {'id': 'call_oqYlMubOUPsvzNt3gxI2P92K', 'name': 'get_weather', 'arguments': '{\\n  \"location\": \"Bogotá, Colombia\",\\n  \"unit\": \"celsius\"\\n}'}\n",
      "[DEBUG] Event type: response.output_item.done\n",
      "[DEBUG] Event type: response.completed\n",
      "[DEBUG] Final response has output: True\n",
      "[DEBUG] Output items: 1\n",
      "[DEBUG] Item 0 type: function_call\n",
      "\n",
      "🔧 Calling function: get_weather\n",
      "📋 Arguments: {'location': 'Bogotá, Colombia', 'unit': 'celsius'}\n",
      "\n",
      "🔧 Calling: get_weather\n",
      "   Args: {'location': 'Bogotá, Colombia', 'unit': 'celsius'}\n",
      "✅ Result: {\"location\": \"Bogot\\u00e1, Colombia\", \"temperature\": 22, \"unit\": \"celsius\", \"condition\": \"Sunny\", \"humidity\": 65}\n",
      "✅ Result: {\"location\": \"Bogot\\u00e1, Colombia\", \"temperature\": 22, \"unit\": \"celsius\", \"condition\": \"Sunny\", \"humidity\": 65}\n",
      "\n",
      "📊 Context: 37 tokens (0.03% used)\n",
      "\n",
      "============================================================\n",
      "Iteration 2\n",
      "============================================================\n",
      "\n",
      "[Iteration 2]\n",
      "[DEBUG] Event type: response.created\n",
      "[DEBUG] Event type: response.in_progress\n",
      "[DEBUG] Event type: response.output_item.added\n",
      "[DEBUG] Event type: response.content_part.added\n",
      "[DEBUG] Event type: response.output_text.delta\n",
      "The[DEBUG] Event type: response.output_text.delta\n",
      " current[DEBUG] Event type: response.output_text.delta\n",
      " weather[DEBUG] Event type: response.output_text.delta\n",
      " in[DEBUG] Event type: response.output_text.delta\n",
      " Bog[DEBUG] Event type: response.output_text.delta\n",
      "ot[DEBUG] Event type: response.output_text.delta\n",
      "á[DEBUG] Event type: response.output_text.delta\n",
      ",[DEBUG] Event type: response.output_text.delta\n",
      " Colombia[DEBUG] Event type: response.output_text.delta\n",
      " is[DEBUG] Event type: response.output_text.delta\n",
      " sunny[DEBUG] Event type: response.output_text.delta\n",
      " with[DEBUG] Event type: response.output_text.delta\n",
      " a[DEBUG] Event type: response.output_text.delta\n",
      " temperature[DEBUG] Event type: response.output_text.delta\n",
      " of[DEBUG] Event type: response.output_text.delta\n",
      " [DEBUG] Event type: response.output_text.delta\n",
      "22[DEBUG] Event type: response.output_text.delta\n",
      " degrees[DEBUG] Event type: response.output_text.delta\n",
      " Celsius[DEBUG] Event type: response.output_text.delta\n",
      " and[DEBUG] Event type: response.output_text.delta\n",
      " a[DEBUG] Event type: response.output_text.delta\n",
      " humidity[DEBUG] Event type: response.output_text.delta\n",
      " of[DEBUG] Event type: response.output_text.delta\n",
      " [DEBUG] Event type: response.output_text.delta\n",
      "65[DEBUG] Event type: response.output_text.delta\n",
      "%.[DEBUG] Event type: response.output_text.done\n",
      "[DEBUG] Event type: response.content_part.done\n",
      "[DEBUG] Event type: response.output_item.done\n",
      "[DEBUG] Event type: response.completed\n",
      "[DEBUG] Final response has output: True\n",
      "[DEBUG] Output items: 1\n",
      "[DEBUG] Item 0 type: message\n",
      "\n",
      "✅ Final response: The current weather in Bogotá, Colombia is sunny with a temperature of 22 degrees Celsius and a humidity of 65%.\n",
      "\n",
      "\n",
      "======================================================================\n",
      "Completed in 2 iterations\n",
      "Functions called: 1\n"
     ]
    }
   ],
   "source": [
    "print(\"=\" * 70)\n",
    "print(\"STREAMING WITH AUTOMATIC FUNCTION EXECUTION\")\n",
    "print(\"=\" * 70)\n",
    "\n",
    "for chunk in llm.call_stream_with_function_execution(\n",
    "    messages=[{\"role\": \"user\", \"content\": \"What's the weather in Bogotá?\"}],\n",
    "    tools=tools,\n",
    "    available_functions=available_functions,\n",
    "    verbose=True  # This will show debug info\n",
    "):\n",
    "    chunk_type = chunk.get(\"type\")\n",
    "    \n",
    "    if chunk_type == \"iteration_start\":\n",
    "        print(f\"\\n[Iteration {chunk.get('iteration')}]\")\n",
    "    \n",
    "    elif chunk_type == \"text_delta\":\n",
    "        # Stream text as it arrives\n",
    "        print(chunk.get(\"content\"), end=\"\", flush=True)\n",
    "    \n",
    "    elif chunk_type == \"function_call_start\":\n",
    "        # Function is being called\n",
    "        print(f\"\\n🔧 Calling: {chunk.get('function_name')}\")\n",
    "        print(f\"   Args: {chunk.get('arguments')}\")\n",
    "    \n",
    "    elif chunk_type == \"function_call_result\":\n",
    "        # Function completed\n",
    "        print(f\"✅ Result: {chunk.get('result')}\")\n",
    "    \n",
    "    elif chunk_type == \"final\":\n",
    "        # Final response\n",
    "        print(f\"\\n\\n{'='*70}\")\n",
    "        print(f\"Completed in {chunk.get('iterations')} iterations\")\n",
    "        print(f\"Functions called: {len(chunk.get('function_calls', []))}\")\n",
    "    \n",
    "    elif chunk_type == \"error\":\n",
    "        print(f\"\\n❌ Error: {chunk.get('content')}\")"
   ]
  },
  {
   "cell_type": "markdown",
   "metadata": {},
   "source": [
    "## Example 6: Streaming with Function Execution silently"
   ]
  },
  {
   "cell_type": "code",
   "execution_count": 11,
   "metadata": {},
   "outputs": [
    {
     "name": "stdout",
     "output_type": "stream",
     "text": [
      "\n",
      "[Iteration 1]\n",
      "\n",
      "🔧 Calling: get_weather\n",
      "   Args: {'location': 'Bogotá, Colombia', 'unit': 'celsius'}\n",
      "✅ Result: {\"location\": \"Bogot\\u00e1, Colombia\", \"temperature\": 22, \"unit\": \"celsius\", \"condition\": \"Sunny\", \"humidity\": 65}\n",
      "\n",
      "[Iteration 2]\n",
      "The weather in Bogotá, Colombia is currently sunny with a temperature of 22 degrees Celsius and a humidity of 65%.\n",
      "\n",
      "======================================================================\n",
      "Completed in 2 iterations\n",
      "Functions called: 1\n"
     ]
    }
   ],
   "source": [
    "for chunk in llm.call_stream_with_function_execution(\n",
    "    messages=[{\"role\": \"user\", \"content\": \"What's the weather in Bogotá?\"}],\n",
    "    tools=tools,\n",
    "    available_functions=available_functions,\n",
    "    verbose=False  # This will show debug info\n",
    "):\n",
    "    chunk_type = chunk.get(\"type\")\n",
    "    \n",
    "    if chunk_type == \"iteration_start\":\n",
    "        print(f\"\\n[Iteration {chunk.get('iteration')}]\")\n",
    "    \n",
    "    elif chunk_type == \"text_delta\":\n",
    "        # Stream text as it arrives\n",
    "        print(chunk.get(\"content\"), end=\"\", flush=True)\n",
    "    \n",
    "    elif chunk_type == \"function_call_start\":\n",
    "        # Function is being called\n",
    "        print(f\"\\n🔧 Calling: {chunk.get('function_name')}\")\n",
    "        print(f\"   Args: {chunk.get('arguments')}\")\n",
    "    \n",
    "    elif chunk_type == \"function_call_result\":\n",
    "        # Function completed\n",
    "        print(f\"✅ Result: {chunk.get('result')}\")\n",
    "    \n",
    "    elif chunk_type == \"final\":\n",
    "        # Final response\n",
    "        print(f\"\\n\\n{'='*70}\")\n",
    "        print(f\"Completed in {chunk.get('iterations')} iterations\")\n",
    "        print(f\"Functions called: {len(chunk.get('function_calls', []))}\")\n",
    "    \n",
    "    elif chunk_type == \"error\":\n",
    "        print(f\"\\n❌ Error: {chunk.get('content')}\")"
   ]
  },
  {
   "cell_type": "markdown",
   "metadata": {},
   "source": [
    "## Example 6: Streaming with Multiple Functions\n",
    "\n",
    "Test streaming with a more complex query that requires multiple function calls."
   ]
  },
  {
   "cell_type": "code",
   "execution_count": 12,
   "metadata": {},
   "outputs": [
    {
     "name": "stdout",
     "output_type": "stream",
     "text": [
      "======================================================================\n",
      "STREAMING: Multiple Functions\n",
      "======================================================================\n",
      "\n",
      "\n",
      "🔧 Calling: get_weather\n",
      "   Args: {'location': 'Bogotá, Colombia', 'unit': 'celsius'}\n",
      "✅ Result: {\"location\": \"Bogot\\u00e1, Colombia\", \"temperature\": 22, \"unit\": \"celsius\", \"condition\": \"Sunny\", \"humidity\": 65}\n",
      "\n",
      "\n",
      "🔧 Calling: calculate\n",
      "   Args: {'expression': '15 * 7'}\n",
      "✅ Result: {\"expression\": \"15 * 7\", \"result\": 105}\n",
      "\n",
      "\n",
      "[Iteration 2]\n",
      "The current weather in Bogotá, Colombia is 22 degrees Celsius, with sunny conditions and a humidity of 65%. The result of 15 * 7 is 105.\n",
      "\n",
      "======================================================================\n",
      "✅ Completed in 2 iterations\n",
      "\n",
      "1. get_weather: {\"location\": \"Bogot\\u00e1, Colombia\", \"temperature\": 22, \"unit\": \"celsius\", \"condition\": \"Sunny\", \"humidity\": 65}\n",
      "\n",
      "2. calculate: {\"expression\": \"15 * 7\", \"result\": 105}\n"
     ]
    }
   ],
   "source": [
    "print(\"=\" * 70)\n",
    "print(\"STREAMING: Multiple Functions\")\n",
    "print(\"=\" * 70)\n",
    "\n",
    "for chunk in llm.call_stream_with_function_execution(\n",
    "    messages=[{\"role\": \"user\", \"content\": \"What's the weather in Bogotá and calculate 15 * 7\"}],\n",
    "    tools=tools,\n",
    "    available_functions=available_functions,\n",
    "    verbose=False  # Set to True to see debug info\n",
    "):\n",
    "    chunk_type = chunk.get(\"type\")\n",
    "    \n",
    "    if chunk_type == \"iteration_start\":\n",
    "        iteration = chunk.get('iteration')\n",
    "        if iteration > 1:\n",
    "            print(f\"\\n\\n[Iteration {iteration}]\")\n",
    "    \n",
    "    elif chunk_type == \"text_delta\":\n",
    "        print(chunk.get(\"content\"), end=\"\", flush=True)\n",
    "    \n",
    "    elif chunk_type == \"function_call_start\":\n",
    "        print(f\"\\n\\n🔧 Calling: {chunk.get('function_name')}\")\n",
    "        print(f\"   Args: {chunk.get('arguments')}\")\n",
    "    \n",
    "    elif chunk_type == \"function_call_result\":\n",
    "        print(f\"✅ Result: {chunk.get('result')}\")\n",
    "    \n",
    "    elif chunk_type == \"final\":\n",
    "        print(f\"\\n\\n{'='*70}\")\n",
    "        print(f\"✅ Completed in {chunk.get('iterations')} iterations\")\n",
    "        \n",
    "        for i, func_call in enumerate(chunk.get('function_calls', []), 1):\n",
    "            print(f\"\\n{i}. {func_call['name']}: {func_call['result']}\")\n",
    "    \n",
    "    elif chunk_type == \"error\":\n",
    "        print(f\"\\n❌ Error: {chunk.get('content')}\")"
   ]
  }
 ],
 "metadata": {
  "kernelspec": {
   "display_name": "vienv",
   "language": "python",
   "name": "python3"
  },
  "language_info": {
   "codemirror_mode": {
    "name": "ipython",
    "version": 3
   },
   "file_extension": ".py",
   "mimetype": "text/x-python",
   "name": "python",
   "nbconvert_exporter": "python",
   "pygments_lexer": "ipython3",
   "version": "3.13.1"
  }
 },
 "nbformat": 4,
 "nbformat_minor": 4
}
