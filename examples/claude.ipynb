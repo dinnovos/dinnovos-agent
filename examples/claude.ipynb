{
 "cells": [
  {
   "cell_type": "code",
   "execution_count": null,
   "id": "fa87faac",
   "metadata": {},
   "outputs": [],
   "source": [
    "from dinnovos import Agent, AnthropicLLM"
   ]
  },
  {
   "cell_type": "code",
   "execution_count": null,
   "id": "752dbe62",
   "metadata": {},
   "outputs": [],
   "source": [
    "API_KEY = os.getenv('ANTHROPIC_API_KEY')"
   ]
  },
  {
   "cell_type": "markdown",
   "id": "a22328c9",
   "metadata": {},
   "source": [
    "#### Basic usage"
   ]
  },
  {
   "cell_type": "code",
   "execution_count": null,
   "id": "3f8f0f17",
   "metadata": {},
   "outputs": [],
   "source": [
    "# Create an LLM interface\n",
    "llm = AnthropicLLM(\n",
    "    api_key=API_KEY_ANTHROPIC,  # Replace with your API key\n",
    "    model=\"claude-sonnet-4-5-20250929\"\n",
    ")"
   ]
  },
  {
   "cell_type": "code",
   "execution_count": null,
   "id": "cf044f02",
   "metadata": {},
   "outputs": [],
   "source": [
    "agent = Agent(\n",
    "    llm=llm,\n",
    "    system_prompt=\"You are a helpful Python programming assistant.\",\n",
    "    max_history=10\n",
    ")"
   ]
  },
  {
   "cell_type": "code",
   "execution_count": null,
   "id": "df43f4af",
   "metadata": {},
   "outputs": [],
   "source": [
    "agent.chat(\"What is a list comprehension in Python?\")"
   ]
  },
  {
   "cell_type": "markdown",
   "id": "43b65e48",
   "metadata": {},
   "source": [
    "#### With History"
   ]
  },
  {
   "cell_type": "code",
   "execution_count": null,
   "id": "0503308e",
   "metadata": {},
   "outputs": [],
   "source": [
    "# Create an LLM interface\n",
    "llm = AnthropicLLM(\n",
    "    api_key=API_KEY_ANTHROPIC,  # Replace with your API key\n",
    "    model=\"claude-sonnet-4-5-20250929\"\n",
    ")"
   ]
  },
  {
   "cell_type": "code",
   "execution_count": null,
   "id": "241a0739",
   "metadata": {},
   "outputs": [],
   "source": [
    "agent = Agent(\n",
    "    llm=llm,\n",
    "    system_prompt=\"You are a personal assistant.\",\n",
    "    max_history=10\n",
    ")"
   ]
  },
  {
   "cell_type": "code",
   "execution_count": null,
   "id": "4455dc1c",
   "metadata": {},
   "outputs": [],
   "source": [
    "history = [\n",
    "    {\n",
    "        \"role\": \"user\",\n",
    "        \"content\": \"Hello, how are you?\",\n",
    "    },\n",
    "    {\n",
    "        \"role\": \"assistant\",\n",
    "        \"content\": \"I'm doing well, thank you for asking.\",\n",
    "    },\n",
    "    {\n",
    "        \"role\": \"user\",\n",
    "        \"content\": \"what is a banana?\",\n",
    "    }   \n",
    "]\n",
    "\n",
    "#agent.chat(content=\"what is a banana?\", history=history)\n",
    "agent.chat(history=history)"
   ]
  }
 ],
 "metadata": {
  "kernelspec": {
   "display_name": "vienv",
   "language": "python",
   "name": "python3"
  },
  "language_info": {
   "codemirror_mode": {
    "name": "ipython",
    "version": 3
   },
   "file_extension": ".py",
   "mimetype": "text/x-python",
   "name": "python",
   "nbconvert_exporter": "python",
   "pygments_lexer": "ipython3",
   "version": "3.13.1"
  }
 },
 "nbformat": 4,
 "nbformat_minor": 5
}
